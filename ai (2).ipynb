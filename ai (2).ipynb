{
 "cells": [
  {
   "cell_type": "code",
   "execution_count": 2,
   "id": "2784a64b-1e6b-4f55-aa9e-5eed172641b7",
   "metadata": {},
   "outputs": [
    {
     "name": "stderr",
     "output_type": "stream",
     "text": [
      "[nltk_data] Downloading package vader_lexicon to\n",
      "[nltk_data]     C:\\Users\\Abhijeet\\AppData\\Roaming\\nltk_data...\n",
      "[nltk_data]   Package vader_lexicon is already up-to-date!\n"
     ]
    },
    {
     "name": "stdout",
     "output_type": "stream",
     "text": [
      "Good Evening\n",
      "Welcome to Sentiment Analyser Chatbot...!!!\n",
      "Enter 'exit' command to end the conversation.\n"
     ]
    },
    {
     "name": "stdin",
     "output_type": "stream",
     "text": [
      "You:  If men wish to live, then they are forced to kill others. The entire struggle for survival is a  conquest of the means of existence, which in turn results in the elimination of others from these same  sources of subsistence. As long as there are peoples on this earth, there will be nations against nations and  they will be forced to protect their vital rights in the same way as the individual is forced to protect his  rights.  One is either the hammer or the anvil. We confess that it is our purpose to prepare the German  people again for the role of the hammer. We admit freely and openly that if our movement is victorious,  we will be concerned day and night with the question of how to produce the armed forces, which are  forbidden us by the peace treaty [Treaty of Versailles]. We solemnly confess that we consider everyone a  scoundrel who does not try day and night to figure out a way to violate this treaty, for we have never  recognized this treaty...We will take every step which strengthens our arms, which augments the number  of our forces, and which increases the strength of our people. We confess further that we will dash anyone  to pieces who should dare hinder us in this undertaking...Our rights will be protected only when the  German Reich [country] is again supported by the point of the German dagger...\n"
     ]
    },
    {
     "name": "stdout",
     "output_type": "stream",
     "text": [
      "Chatbot:- It sounds like you're feeling positive.\n"
     ]
    },
    {
     "name": "stdin",
     "output_type": "stream",
     "text": [
      "You:  exit\n"
     ]
    },
    {
     "name": "stdout",
     "output_type": "stream",
     "text": [
      "Thank You for Using\n",
      "Good Bye and Good Night...!!!\n"
     ]
    }
   ],
   "source": [
    "\"\"\"\n",
    "please insecure \n",
    "* install latest python version, enter command\n",
    "\"python --version\"\n",
    "* \"panda\" is install in your system. After the check install panda library. command:- \n",
    "\"pip install nltk pandas\"\n",
    "\n",
    "if is not install code is not working properly...!!!\n",
    "\"\"\"\n",
    "\n",
    "import nltk\n",
    "import pandas as pd\n",
    "from nltk.sentiment.vader import SentimentIntensityAnalyzer\n",
    "import datetime\n",
    "\n",
    "                               \n",
    "nltk.download('vader_lexicon')       # Download VADER Lexicon\n",
    "\n",
    "sid = SentimentIntensityAnalyzer()   # Initialize VADER sentiment analyzer\n",
    "\n",
    "\"\"\"\n",
    "    Analyzes the sentiment of the input message using VADER.\n",
    "    Returns one of 'positive', 'negative', 'neutral'.\n",
    "\"\"\"\n",
    "\n",
    "current_time = datetime.datetime.now().time()   # For checking day or night\n",
    "current_hour = current_time.hour\n",
    "\n",
    "\n",
    "def analyze_sentiment(message):      #for analysing coment \n",
    "    \n",
    "    scores = sid.polarity_scores(message)\n",
    "    if scores['compound'] >= 0.05:\n",
    "        return 'positive'\n",
    "    elif scores['compound'] <= -0.05:\n",
    "        return 'negative'\n",
    "    else:\n",
    "        return 'neutral'\n",
    "\n",
    "def chatbot():\n",
    "    if 0 <= current_hour < 14:\n",
    "        print(\"Good Morning\")\n",
    "    else:\n",
    "        print(\"Good Evening\")\n",
    "        print(\"Welcome to Sentiment Analyser Chatbot...!!!\")\n",
    "    print(\"Enter 'exit' command to end the conversation.\")\n",
    "    \n",
    "    while True:\n",
    "        message = input(\"You: \")\n",
    "        if message.lower() == 'exit':\n",
    "            print(\"Thank You for Using\")\n",
    "\n",
    "            if 6 <= current_hour < 14:\n",
    "                print(\"Have A Nice Day...!!!\")\n",
    "\n",
    "            else:\n",
    "                print(\"Good Bye and Good Night...!!!\")\n",
    "            \n",
    "            break\n",
    "        \n",
    "        sentiment = analyze_sentiment(message)\n",
    "        \n",
    "        if sentiment == 'positive':\n",
    "            print(\"Chatbot:- It sounds like you're feeling positive.\")\n",
    "        elif sentiment == 'negative':\n",
    "            print(\"Chatbot:- It sounds like you're feeling negative.\")\n",
    "        else:\n",
    "            print(\"Chatbot:- Your message seems neutral.\")\n",
    "\n",
    "\n",
    "if __name__ == \"__main__\":\n",
    "    chatbot()\n",
    "\n"
   ]
  },
  {
   "cell_type": "code",
   "execution_count": null,
   "id": "034c2fdc-b47a-4e16-9f3c-1e4ee9d7434c",
   "metadata": {},
   "outputs": [],
   "source": []
  }
 ],
 "metadata": {
  "kernelspec": {
   "display_name": "Python 3 (ipykernel)",
   "language": "python",
   "name": "python3"
  },
  "language_info": {
   "codemirror_mode": {
    "name": "ipython",
    "version": 3
   },
   "file_extension": ".py",
   "mimetype": "text/x-python",
   "name": "python",
   "nbconvert_exporter": "python",
   "pygments_lexer": "ipython3",
   "version": "3.9.4"
  }
 },
 "nbformat": 4,
 "nbformat_minor": 5
}
